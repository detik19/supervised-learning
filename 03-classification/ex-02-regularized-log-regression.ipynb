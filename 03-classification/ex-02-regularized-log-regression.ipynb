{
 "cells": [
  {
   "cell_type": "code",
   "execution_count": null,
   "metadata": {},
   "outputs": [],
   "source": []
  }
 ],
 "metadata": {
  "kernelspec": {
   "display_name": "Python 3.9.13 ('academy')",
   "language": "python",
   "name": "python3"
  },
  "language_info": {
   "name": "python",
   "version": "3.9.13"
  },
  "orig_nbformat": 4,
  "vscode": {
   "interpreter": {
    "hash": "e8671fb701186b1292a69bea7516b71b9d19b78bd28f15b18c90589309bdce08"
   }
  }
 },
 "nbformat": 4,
 "nbformat_minor": 2
}
